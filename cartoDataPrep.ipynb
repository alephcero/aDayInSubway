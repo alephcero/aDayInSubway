{
 "cells": [
  {
   "cell_type": "code",
   "execution_count": 1,
   "metadata": {
    "collapsed": true
   },
   "outputs": [],
   "source": [
    "import pandas as pd\n",
    "import numpy as np\n",
    "import geopandas as gpd"
   ]
  },
  {
   "cell_type": "code",
   "execution_count": 2,
   "metadata": {
    "collapsed": false
   },
   "outputs": [
    {
     "data": {
      "text/html": [
       "<div>\n",
       "<table border=\"1\" class=\"dataframe\">\n",
       "  <thead>\n",
       "    <tr style=\"text-align: right;\">\n",
       "      <th></th>\n",
       "      <th>FECHA</th>\n",
       "      <th>DESDE</th>\n",
       "      <th>LINEA</th>\n",
       "      <th>ESTACION</th>\n",
       "      <th>TOTAL</th>\n",
       "    </tr>\n",
       "  </thead>\n",
       "  <tbody>\n",
       "    <tr>\n",
       "      <th>0</th>\n",
       "      <td>2016-01-02</td>\n",
       "      <td>05:00:00</td>\n",
       "      <td>LINEA_A</td>\n",
       "      <td>CARABOBO</td>\n",
       "      <td>1</td>\n",
       "    </tr>\n",
       "    <tr>\n",
       "      <th>1</th>\n",
       "      <td>2016-01-02</td>\n",
       "      <td>05:00:00</td>\n",
       "      <td>LINEA_A</td>\n",
       "      <td>LIMA</td>\n",
       "      <td>1</td>\n",
       "    </tr>\n",
       "    <tr>\n",
       "      <th>2</th>\n",
       "      <td>2016-01-02</td>\n",
       "      <td>05:00:00</td>\n",
       "      <td>LINEA_A</td>\n",
       "      <td>RIO DE JANEIRO</td>\n",
       "      <td>1</td>\n",
       "    </tr>\n",
       "    <tr>\n",
       "      <th>3</th>\n",
       "      <td>2016-01-02</td>\n",
       "      <td>05:00:00</td>\n",
       "      <td>LINEA_A</td>\n",
       "      <td>SAN PEDRITO</td>\n",
       "      <td>0</td>\n",
       "    </tr>\n",
       "    <tr>\n",
       "      <th>4</th>\n",
       "      <td>2016-01-02</td>\n",
       "      <td>05:00:00</td>\n",
       "      <td>LINEA_A</td>\n",
       "      <td>SAN PEDRITO</td>\n",
       "      <td>1</td>\n",
       "    </tr>\n",
       "  </tbody>\n",
       "</table>\n",
       "</div>"
      ],
      "text/plain": [
       "       FECHA     DESDE    LINEA        ESTACION  TOTAL\n",
       "0 2016-01-02  05:00:00  LINEA_A        CARABOBO      1\n",
       "1 2016-01-02  05:00:00  LINEA_A            LIMA      1\n",
       "2 2016-01-02  05:00:00  LINEA_A  RIO DE JANEIRO      1\n",
       "3 2016-01-02  05:00:00  LINEA_A     SAN PEDRITO      0\n",
       "4 2016-01-02  05:00:00  LINEA_A     SAN PEDRITO      1"
      ]
     },
     "execution_count": 2,
     "metadata": {},
     "output_type": "execute_result"
    }
   ],
   "source": [
    "data = pd.read_csv('molinetes_ene_dic_2016.csv',\n",
    "                      sep = ';',\n",
    "                      usecols = [1,2,4,6,10],\n",
    "                      parse_dates = [0],\n",
    "                      dayfirst = True,\n",
    "                     )\n",
    "data.head()"
   ]
  },
  {
   "cell_type": "code",
   "execution_count": 5,
   "metadata": {
    "collapsed": true
   },
   "outputs": [],
   "source": [
    "dataOrig = data.copy()"
   ]
  },
  {
   "cell_type": "code",
   "execution_count": 6,
   "metadata": {
    "collapsed": false
   },
   "outputs": [
    {
     "data": {
      "text/html": [
       "<div>\n",
       "<table border=\"1\" class=\"dataframe\">\n",
       "  <thead>\n",
       "    <tr style=\"text-align: right;\">\n",
       "      <th></th>\n",
       "      <th>FECHA</th>\n",
       "      <th>DESDE</th>\n",
       "      <th>LINEA</th>\n",
       "      <th>ESTACION</th>\n",
       "      <th>TOTAL</th>\n",
       "    </tr>\n",
       "  </thead>\n",
       "  <tbody>\n",
       "    <tr>\n",
       "      <th>0</th>\n",
       "      <td>2016-01-01</td>\n",
       "      <td>05:00:00</td>\n",
       "      <td>LINEA_H</td>\n",
       "      <td>CASEROS</td>\n",
       "      <td>0</td>\n",
       "    </tr>\n",
       "    <tr>\n",
       "      <th>1</th>\n",
       "      <td>2016-01-01</td>\n",
       "      <td>05:30:00</td>\n",
       "      <td>LINEA_D</td>\n",
       "      <td>CONGRESO DE TUCUMAN</td>\n",
       "      <td>0</td>\n",
       "    </tr>\n",
       "    <tr>\n",
       "      <th>2</th>\n",
       "      <td>2016-01-01</td>\n",
       "      <td>05:45:00</td>\n",
       "      <td>LINEA_A</td>\n",
       "      <td>SAN PEDRITO</td>\n",
       "      <td>0</td>\n",
       "    </tr>\n",
       "    <tr>\n",
       "      <th>3</th>\n",
       "      <td>2016-01-01</td>\n",
       "      <td>06:15:00</td>\n",
       "      <td>LINEA_C</td>\n",
       "      <td>MARIANO MORENO</td>\n",
       "      <td>1</td>\n",
       "    </tr>\n",
       "    <tr>\n",
       "      <th>4</th>\n",
       "      <td>2016-01-01</td>\n",
       "      <td>06:30:00</td>\n",
       "      <td>LINEA_A</td>\n",
       "      <td>ACOYTE</td>\n",
       "      <td>0</td>\n",
       "    </tr>\n",
       "  </tbody>\n",
       "</table>\n",
       "</div>"
      ],
      "text/plain": [
       "       FECHA     DESDE    LINEA             ESTACION  TOTAL\n",
       "0 2016-01-01  05:00:00  LINEA_H              CASEROS      0\n",
       "1 2016-01-01  05:30:00  LINEA_D  CONGRESO DE TUCUMAN      0\n",
       "2 2016-01-01  05:45:00  LINEA_A          SAN PEDRITO      0\n",
       "3 2016-01-01  06:15:00  LINEA_C       MARIANO MORENO      1\n",
       "4 2016-01-01  06:30:00  LINEA_A               ACOYTE      0"
      ]
     },
     "execution_count": 6,
     "metadata": {},
     "output_type": "execute_result"
    }
   ],
   "source": [
    "#sumar cada estacion cada dia cada hora\n",
    "data = data.groupby(by=['FECHA','DESDE','LINEA','ESTACION']).sum()\n",
    "data.reset_index(inplace=True)\n",
    "data.head()"
   ]
  },
  {
   "cell_type": "code",
   "execution_count": 7,
   "metadata": {
    "collapsed": false
   },
   "outputs": [],
   "source": [
    "# seleccionar dias habiles\n",
    "data['day']=data.FECHA.map(lambda x: x.weekday())\n",
    "data = data.loc[data.day<5,:]\n"
   ]
  },
  {
   "cell_type": "code",
   "execution_count": 8,
   "metadata": {
    "collapsed": false
   },
   "outputs": [
    {
     "data": {
      "text/html": [
       "<div>\n",
       "<table border=\"1\" class=\"dataframe\">\n",
       "  <thead>\n",
       "    <tr style=\"text-align: right;\">\n",
       "      <th></th>\n",
       "      <th>LINEA</th>\n",
       "      <th>ESTACION</th>\n",
       "      <th>DESDE</th>\n",
       "      <th>TOTAL</th>\n",
       "    </tr>\n",
       "  </thead>\n",
       "  <tbody>\n",
       "    <tr>\n",
       "      <th>0</th>\n",
       "      <td>LINEA_A</td>\n",
       "      <td>ACOYTE</td>\n",
       "      <td>05:00:00</td>\n",
       "      <td>9.394309</td>\n",
       "    </tr>\n",
       "    <tr>\n",
       "      <th>1</th>\n",
       "      <td>LINEA_A</td>\n",
       "      <td>ACOYTE</td>\n",
       "      <td>05:15:00</td>\n",
       "      <td>14.713115</td>\n",
       "    </tr>\n",
       "    <tr>\n",
       "      <th>2</th>\n",
       "      <td>LINEA_A</td>\n",
       "      <td>ACOYTE</td>\n",
       "      <td>05:30:00</td>\n",
       "      <td>17.819672</td>\n",
       "    </tr>\n",
       "    <tr>\n",
       "      <th>3</th>\n",
       "      <td>LINEA_A</td>\n",
       "      <td>ACOYTE</td>\n",
       "      <td>05:45:00</td>\n",
       "      <td>20.183673</td>\n",
       "    </tr>\n",
       "    <tr>\n",
       "      <th>4</th>\n",
       "      <td>LINEA_A</td>\n",
       "      <td>ACOYTE</td>\n",
       "      <td>06:00:00</td>\n",
       "      <td>37.963115</td>\n",
       "    </tr>\n",
       "  </tbody>\n",
       "</table>\n",
       "</div>"
      ],
      "text/plain": [
       "     LINEA ESTACION     DESDE      TOTAL\n",
       "0  LINEA_A   ACOYTE  05:00:00   9.394309\n",
       "1  LINEA_A   ACOYTE  05:15:00  14.713115\n",
       "2  LINEA_A   ACOYTE  05:30:00  17.819672\n",
       "3  LINEA_A   ACOYTE  05:45:00  20.183673\n",
       "4  LINEA_A   ACOYTE  06:00:00  37.963115"
      ]
     },
     "execution_count": 8,
     "metadata": {},
     "output_type": "execute_result"
    }
   ],
   "source": [
    "#sacar promedio por periodo de 15 por estacion\n",
    "dataFinal = data.loc[:,['DESDE','LINEA','ESTACION','TOTAL']].groupby(by=['LINEA','ESTACION','DESDE']).mean()\n",
    "dataFinal.reset_index(inplace=True)\n",
    "dataFinal = dataFinal.loc[dataFinal.LINEA!=u'TALLER/PRUEBAS',:]\n",
    "\n",
    "dataFinal.head()"
   ]
  },
  {
   "cell_type": "code",
   "execution_count": 9,
   "metadata": {
    "collapsed": false
   },
   "outputs": [],
   "source": [
    "dataFinal.to_csv('dataFinal.csv',index=False)"
   ]
  },
  {
   "cell_type": "code",
   "execution_count": 10,
   "metadata": {
    "collapsed": true
   },
   "outputs": [],
   "source": [
    "#mergear ubicacion con estaciones"
   ]
  },
  {
   "cell_type": "code",
   "execution_count": 11,
   "metadata": {
    "collapsed": false
   },
   "outputs": [
    {
     "data": {
      "text/html": [
       "<div>\n",
       "<table border=\"1\" class=\"dataframe\">\n",
       "  <thead>\n",
       "    <tr style=\"text-align: right;\">\n",
       "      <th></th>\n",
       "      <th>LINEA</th>\n",
       "      <th>ESTACION</th>\n",
       "      <th>DESDE</th>\n",
       "      <th>TOTAL</th>\n",
       "    </tr>\n",
       "  </thead>\n",
       "  <tbody>\n",
       "    <tr>\n",
       "      <th>0</th>\n",
       "      <td>LINEA_A</td>\n",
       "      <td>ACOYTE</td>\n",
       "      <td>05:00:00</td>\n",
       "      <td>9.394309</td>\n",
       "    </tr>\n",
       "    <tr>\n",
       "      <th>1</th>\n",
       "      <td>LINEA_A</td>\n",
       "      <td>ACOYTE</td>\n",
       "      <td>05:15:00</td>\n",
       "      <td>14.713115</td>\n",
       "    </tr>\n",
       "    <tr>\n",
       "      <th>2</th>\n",
       "      <td>LINEA_A</td>\n",
       "      <td>ACOYTE</td>\n",
       "      <td>05:30:00</td>\n",
       "      <td>17.819672</td>\n",
       "    </tr>\n",
       "    <tr>\n",
       "      <th>3</th>\n",
       "      <td>LINEA_A</td>\n",
       "      <td>ACOYTE</td>\n",
       "      <td>05:45:00</td>\n",
       "      <td>20.183673</td>\n",
       "    </tr>\n",
       "    <tr>\n",
       "      <th>4</th>\n",
       "      <td>LINEA_A</td>\n",
       "      <td>ACOYTE</td>\n",
       "      <td>06:00:00</td>\n",
       "      <td>37.963115</td>\n",
       "    </tr>\n",
       "  </tbody>\n",
       "</table>\n",
       "</div>"
      ],
      "text/plain": [
       "     LINEA ESTACION     DESDE      TOTAL\n",
       "0  LINEA_A   ACOYTE  05:00:00   9.394309\n",
       "1  LINEA_A   ACOYTE  05:15:00  14.713115\n",
       "2  LINEA_A   ACOYTE  05:30:00  17.819672\n",
       "3  LINEA_A   ACOYTE  05:45:00  20.183673\n",
       "4  LINEA_A   ACOYTE  06:00:00  37.963115"
      ]
     },
     "execution_count": 11,
     "metadata": {},
     "output_type": "execute_result"
    }
   ],
   "source": [
    "trips = pd.read_csv('dataFinal.csv',encoding='utf-8')\n",
    "trips.head()"
   ]
  },
  {
   "cell_type": "code",
   "execution_count": 12,
   "metadata": {
    "collapsed": false
   },
   "outputs": [
    {
     "data": {
      "text/html": [
       "<div>\n",
       "<table border=\"1\" class=\"dataframe\">\n",
       "  <thead>\n",
       "    <tr style=\"text-align: right;\">\n",
       "      <th></th>\n",
       "      <th>X</th>\n",
       "      <th>Y</th>\n",
       "      <th>ESTACION</th>\n",
       "      <th>LINEA</th>\n",
       "    </tr>\n",
       "  </thead>\n",
       "  <tbody>\n",
       "    <tr>\n",
       "      <th>0</th>\n",
       "      <td>-58.398928</td>\n",
       "      <td>-34.635750</td>\n",
       "      <td>CASEROS</td>\n",
       "      <td>LINEA_H</td>\n",
       "    </tr>\n",
       "    <tr>\n",
       "      <th>1</th>\n",
       "      <td>-58.400970</td>\n",
       "      <td>-34.629376</td>\n",
       "      <td>INCLAN</td>\n",
       "      <td>LINEA_H</td>\n",
       "    </tr>\n",
       "    <tr>\n",
       "      <th>2</th>\n",
       "      <td>-58.402323</td>\n",
       "      <td>-34.623092</td>\n",
       "      <td>HUMBERTO 1°</td>\n",
       "      <td>LINEA_H</td>\n",
       "    </tr>\n",
       "    <tr>\n",
       "      <th>3</th>\n",
       "      <td>-58.404732</td>\n",
       "      <td>-34.615242</td>\n",
       "      <td>VENEZUELA</td>\n",
       "      <td>LINEA_H</td>\n",
       "    </tr>\n",
       "    <tr>\n",
       "      <th>4</th>\n",
       "      <td>-58.406036</td>\n",
       "      <td>-34.608935</td>\n",
       "      <td>ONCE - 30 DE DICIEMBRE</td>\n",
       "      <td>LINEA_H</td>\n",
       "    </tr>\n",
       "  </tbody>\n",
       "</table>\n",
       "</div>"
      ],
      "text/plain": [
       "           X          Y                ESTACION    LINEA\n",
       "0 -58.398928 -34.635750                 CASEROS  LINEA_H\n",
       "1 -58.400970 -34.629376                  INCLAN  LINEA_H\n",
       "2 -58.402323 -34.623092             HUMBERTO 1°  LINEA_H\n",
       "3 -58.404732 -34.615242               VENEZUELA  LINEA_H\n",
       "4 -58.406036 -34.608935  ONCE - 30 DE DICIEMBRE  LINEA_H"
      ]
     },
     "execution_count": 12,
     "metadata": {},
     "output_type": "execute_result"
    }
   ],
   "source": [
    "estaciones = pd.read_csv('estaciones-de-subte.csv',sep=';',encoding='utf-8',usecols=[0,1,3,4])\n",
    "estaciones.LINEA = estaciones.LINEA.map(lambda x: 'LINEA_'+x)\n",
    "estaciones.head()"
   ]
  },
  {
   "cell_type": "code",
   "execution_count": 13,
   "metadata": {
    "collapsed": true
   },
   "outputs": [],
   "source": [
    "estaciones.ESTACION.replace(to_replace=u'HUMBERTO 1°',value=u'HUMBERTO I',inplace=True)\n",
    "estaciones.ESTACION.replace(to_replace=u'ONCE - 30 DE DICIEMBRE',value=u'ONCE',inplace=True)\n",
    "estaciones.ESTACION.replace(to_replace=u'TRIBUNALES - TEATRO COLON',value=u'TRIBUNALES',inplace=True)\n",
    "estaciones.ESTACION.replace(to_replace=u'R.SCALABRINI ORTIZ',value=u'SCALABRINI ORTIZ',inplace=True)\n",
    "estaciones.ESTACION.replace(to_replace=u'AV. DE MAYO',value=u'AVENIDA DE MAYO',inplace=True)\n",
    "estaciones.ESTACION.replace(to_replace=u'MORENO',value=u'MARIANO MORENO',inplace=True)\n",
    "\n",
    "estaciones.ESTACION.replace(to_replace=u'C. PELLEGRINI',value=u'CARLOS PELLEGRINI',inplace=True)\n",
    "estaciones.ESTACION.replace(to_replace=u'PASTEUR - AMIA',value=u'PASTEUR',inplace=True)\n",
    "estaciones.ESTACION.replace(to_replace=u'MALABIA - OSVALDO PUGLIESE',value=u'MALABIA',inplace=True)\n",
    "estaciones.ESTACION.replace(to_replace=u'PLAZA DE MISERERE',value=u'PLAZA MISERERE',inplace=True)\n",
    "estaciones.ESTACION.replace(to_replace=u'BELGRANO',value=u'GENERAL BELGRANO',inplace=True)\n",
    "estaciones.ESTACION.replace(to_replace=u'ENTRE RIOS - RODOLFO WALSH',value=u'ENTRE RIOS',inplace=True)\n",
    "estaciones.ESTACION.replace(to_replace=u'SAN MARTIN',value=u'GENERAL SAN MARTIN',inplace=True)\n",
    "estaciones.ESTACION.replace(to_replace=u'AV. LA PLATA',value=u'AVENIDA LA PLATA',inplace=True)\n",
    "estaciones.ESTACION.replace(to_replace=u'PLAZA DE LOS VIRREYES - EVA PERON',value=u'PZA. DE LOS VIRREYES',inplace=True)\n",
    "estaciones.ESTACION.replace(to_replace=u'TRONADOR - VILLA ORTUZAR',value=u'TRONADOR',inplace=True)\n",
    "estaciones.ESTACION.replace(to_replace=u'DE LOS INCAS -PQUE. CHAS',value=u'LOS INCAS',inplace=True)\n",
    "estaciones.ESTACION.replace(to_replace=u'PARQUE PATRICIOS',value=u'PATRICIOS',inplace=True)\n",
    "estaciones.ESTACION.replace(to_replace=u'JUAN MANUEL DE ROSAS - VILLA URQUIZA',value=u'ROSAS',inplace=True)\n",
    "estaciones.ESTACION.replace(to_replace=u'SAN JOSE DE FLORES',value=u'FLORES',inplace=True)\n",
    "estaciones.ESTACION.replace(to_replace=u'SANTA FE - CARLOS JAUREGUI',value=u'SANTA FE',inplace=True)\n"
   ]
  },
  {
   "cell_type": "code",
   "execution_count": 14,
   "metadata": {
    "collapsed": false
   },
   "outputs": [
    {
     "data": {
      "text/plain": [
       "Series([], Name: ESTACION, dtype: object)"
      ]
     },
     "execution_count": 14,
     "metadata": {},
     "output_type": "execute_result"
    }
   ],
   "source": [
    "#estaciones que no estan en trips\n",
    "noEstan = ~(estaciones.ESTACION.isin(trips.ESTACION.unique()))\n",
    "estaciones.ESTACION[noEstan]"
   ]
  },
  {
   "cell_type": "code",
   "execution_count": 15,
   "metadata": {
    "collapsed": false
   },
   "outputs": [
    {
     "data": {
      "text/plain": [
       "19           CALLAO.B\n",
       "57       PUEYRREDON.D\n",
       "66    INDEPENDENCIA.H\n",
       "dtype: object"
      ]
     },
     "execution_count": 15,
     "metadata": {},
     "output_type": "execute_result"
    }
   ],
   "source": [
    "noEstan = ~(pd.Series(trips.ESTACION.unique()).isin(estaciones.ESTACION))\n",
    "pd.Series(trips.ESTACION.unique())[noEstan]"
   ]
  },
  {
   "cell_type": "code",
   "execution_count": 16,
   "metadata": {
    "collapsed": true
   },
   "outputs": [],
   "source": [
    "trips.ESTACION.replace(to_replace=u'CALLAO.B',value=u'CALLAO',inplace=True)\n",
    "trips.ESTACION.replace(to_replace=u'INDEPENDENCIA.H',value=u'INDEPENDENCIA',inplace=True)\n",
    "trips.ESTACION.replace(to_replace=u'PUEYRREDON.D',value=u'PUEYRREDON',inplace=True)\n"
   ]
  },
  {
   "cell_type": "code",
   "execution_count": 17,
   "metadata": {
    "collapsed": false
   },
   "outputs": [
    {
     "data": {
      "text/plain": [
       "Series([], dtype: object)"
      ]
     },
     "execution_count": 17,
     "metadata": {},
     "output_type": "execute_result"
    }
   ],
   "source": [
    "noEstan = ~(pd.Series(trips.ESTACION.unique()).isin(estaciones.ESTACION))\n",
    "pd.Series(trips.ESTACION.unique())[noEstan]"
   ]
  },
  {
   "cell_type": "code",
   "execution_count": 18,
   "metadata": {
    "collapsed": false
   },
   "outputs": [
    {
     "data": {
      "text/html": [
       "<div>\n",
       "<table border=\"1\" class=\"dataframe\">\n",
       "  <thead>\n",
       "    <tr style=\"text-align: right;\">\n",
       "      <th></th>\n",
       "      <th>X</th>\n",
       "      <th>Y</th>\n",
       "      <th>ESTACION</th>\n",
       "      <th>LINEA</th>\n",
       "    </tr>\n",
       "  </thead>\n",
       "  <tbody>\n",
       "    <tr>\n",
       "      <th>0</th>\n",
       "      <td>-58.398928</td>\n",
       "      <td>-34.635750</td>\n",
       "      <td>CASEROS</td>\n",
       "      <td>LINEA_H</td>\n",
       "    </tr>\n",
       "    <tr>\n",
       "      <th>1</th>\n",
       "      <td>-58.400970</td>\n",
       "      <td>-34.629376</td>\n",
       "      <td>INCLAN</td>\n",
       "      <td>LINEA_H</td>\n",
       "    </tr>\n",
       "    <tr>\n",
       "      <th>2</th>\n",
       "      <td>-58.402323</td>\n",
       "      <td>-34.623092</td>\n",
       "      <td>HUMBERTO I</td>\n",
       "      <td>LINEA_H</td>\n",
       "    </tr>\n",
       "    <tr>\n",
       "      <th>3</th>\n",
       "      <td>-58.404732</td>\n",
       "      <td>-34.615242</td>\n",
       "      <td>VENEZUELA</td>\n",
       "      <td>LINEA_H</td>\n",
       "    </tr>\n",
       "    <tr>\n",
       "      <th>4</th>\n",
       "      <td>-58.406036</td>\n",
       "      <td>-34.608935</td>\n",
       "      <td>ONCE</td>\n",
       "      <td>LINEA_H</td>\n",
       "    </tr>\n",
       "  </tbody>\n",
       "</table>\n",
       "</div>"
      ],
      "text/plain": [
       "           X          Y    ESTACION    LINEA\n",
       "0 -58.398928 -34.635750     CASEROS  LINEA_H\n",
       "1 -58.400970 -34.629376      INCLAN  LINEA_H\n",
       "2 -58.402323 -34.623092  HUMBERTO I  LINEA_H\n",
       "3 -58.404732 -34.615242   VENEZUELA  LINEA_H\n",
       "4 -58.406036 -34.608935        ONCE  LINEA_H"
      ]
     },
     "execution_count": 18,
     "metadata": {},
     "output_type": "execute_result"
    }
   ],
   "source": [
    "estaciones.head()"
   ]
  },
  {
   "cell_type": "code",
   "execution_count": 19,
   "metadata": {
    "collapsed": false
   },
   "outputs": [
    {
     "data": {
      "text/html": [
       "<div>\n",
       "<table border=\"1\" class=\"dataframe\">\n",
       "  <thead>\n",
       "    <tr style=\"text-align: right;\">\n",
       "      <th></th>\n",
       "      <th>LINEA</th>\n",
       "      <th>ESTACION</th>\n",
       "      <th>DESDE</th>\n",
       "      <th>TOTAL</th>\n",
       "    </tr>\n",
       "  </thead>\n",
       "  <tbody>\n",
       "    <tr>\n",
       "      <th>0</th>\n",
       "      <td>LINEA_A</td>\n",
       "      <td>ACOYTE</td>\n",
       "      <td>05:00:00</td>\n",
       "      <td>9.394309</td>\n",
       "    </tr>\n",
       "    <tr>\n",
       "      <th>1</th>\n",
       "      <td>LINEA_A</td>\n",
       "      <td>ACOYTE</td>\n",
       "      <td>05:15:00</td>\n",
       "      <td>14.713115</td>\n",
       "    </tr>\n",
       "    <tr>\n",
       "      <th>2</th>\n",
       "      <td>LINEA_A</td>\n",
       "      <td>ACOYTE</td>\n",
       "      <td>05:30:00</td>\n",
       "      <td>17.819672</td>\n",
       "    </tr>\n",
       "    <tr>\n",
       "      <th>3</th>\n",
       "      <td>LINEA_A</td>\n",
       "      <td>ACOYTE</td>\n",
       "      <td>05:45:00</td>\n",
       "      <td>20.183673</td>\n",
       "    </tr>\n",
       "    <tr>\n",
       "      <th>4</th>\n",
       "      <td>LINEA_A</td>\n",
       "      <td>ACOYTE</td>\n",
       "      <td>06:00:00</td>\n",
       "      <td>37.963115</td>\n",
       "    </tr>\n",
       "  </tbody>\n",
       "</table>\n",
       "</div>"
      ],
      "text/plain": [
       "     LINEA ESTACION     DESDE      TOTAL\n",
       "0  LINEA_A   ACOYTE  05:00:00   9.394309\n",
       "1  LINEA_A   ACOYTE  05:15:00  14.713115\n",
       "2  LINEA_A   ACOYTE  05:30:00  17.819672\n",
       "3  LINEA_A   ACOYTE  05:45:00  20.183673\n",
       "4  LINEA_A   ACOYTE  06:00:00  37.963115"
      ]
     },
     "execution_count": 19,
     "metadata": {},
     "output_type": "execute_result"
    }
   ],
   "source": [
    "trips.head()"
   ]
  },
  {
   "cell_type": "code",
   "execution_count": 20,
   "metadata": {
    "collapsed": false
   },
   "outputs": [
    {
     "data": {
      "text/html": [
       "<div>\n",
       "<table border=\"1\" class=\"dataframe\">\n",
       "  <thead>\n",
       "    <tr style=\"text-align: right;\">\n",
       "      <th></th>\n",
       "      <th>LINEA</th>\n",
       "      <th>ESTACION</th>\n",
       "      <th>DESDE</th>\n",
       "      <th>TOTAL</th>\n",
       "      <th>X</th>\n",
       "      <th>Y</th>\n",
       "    </tr>\n",
       "  </thead>\n",
       "  <tbody>\n",
       "    <tr>\n",
       "      <th>0</th>\n",
       "      <td>LINEA_A</td>\n",
       "      <td>ACOYTE</td>\n",
       "      <td>05:00:00</td>\n",
       "      <td>9.394309</td>\n",
       "      <td>-58.436429</td>\n",
       "      <td>-34.61828</td>\n",
       "    </tr>\n",
       "    <tr>\n",
       "      <th>1</th>\n",
       "      <td>LINEA_A</td>\n",
       "      <td>ACOYTE</td>\n",
       "      <td>05:15:00</td>\n",
       "      <td>14.713115</td>\n",
       "      <td>-58.436429</td>\n",
       "      <td>-34.61828</td>\n",
       "    </tr>\n",
       "    <tr>\n",
       "      <th>2</th>\n",
       "      <td>LINEA_A</td>\n",
       "      <td>ACOYTE</td>\n",
       "      <td>05:30:00</td>\n",
       "      <td>17.819672</td>\n",
       "      <td>-58.436429</td>\n",
       "      <td>-34.61828</td>\n",
       "    </tr>\n",
       "    <tr>\n",
       "      <th>3</th>\n",
       "      <td>LINEA_A</td>\n",
       "      <td>ACOYTE</td>\n",
       "      <td>05:45:00</td>\n",
       "      <td>20.183673</td>\n",
       "      <td>-58.436429</td>\n",
       "      <td>-34.61828</td>\n",
       "    </tr>\n",
       "    <tr>\n",
       "      <th>4</th>\n",
       "      <td>LINEA_A</td>\n",
       "      <td>ACOYTE</td>\n",
       "      <td>06:00:00</td>\n",
       "      <td>37.963115</td>\n",
       "      <td>-58.436429</td>\n",
       "      <td>-34.61828</td>\n",
       "    </tr>\n",
       "  </tbody>\n",
       "</table>\n",
       "</div>"
      ],
      "text/plain": [
       "     LINEA ESTACION     DESDE      TOTAL          X         Y\n",
       "0  LINEA_A   ACOYTE  05:00:00   9.394309 -58.436429 -34.61828\n",
       "1  LINEA_A   ACOYTE  05:15:00  14.713115 -58.436429 -34.61828\n",
       "2  LINEA_A   ACOYTE  05:30:00  17.819672 -58.436429 -34.61828\n",
       "3  LINEA_A   ACOYTE  05:45:00  20.183673 -58.436429 -34.61828\n",
       "4  LINEA_A   ACOYTE  06:00:00  37.963115 -58.436429 -34.61828"
      ]
     },
     "execution_count": 20,
     "metadata": {},
     "output_type": "execute_result"
    }
   ],
   "source": [
    "carto = pd.merge(trips,estaciones,how='left',on=['LINEA','ESTACION'])\n",
    "carto.head()"
   ]
  },
  {
   "cell_type": "code",
   "execution_count": 21,
   "metadata": {
    "collapsed": false
   },
   "outputs": [
    {
     "data": {
      "text/html": [
       "<div>\n",
       "<table border=\"1\" class=\"dataframe\">\n",
       "  <thead>\n",
       "    <tr style=\"text-align: right;\">\n",
       "      <th></th>\n",
       "      <th>LINEA</th>\n",
       "      <th>ESTACION</th>\n",
       "      <th>DESDE</th>\n",
       "      <th>TOTAL</th>\n",
       "      <th>X</th>\n",
       "      <th>Y</th>\n",
       "    </tr>\n",
       "  </thead>\n",
       "  <tbody>\n",
       "    <tr>\n",
       "      <th>2640</th>\n",
       "      <td>LINEA_C</td>\n",
       "      <td>CONSTITUCION</td>\n",
       "      <td>08:15:00</td>\n",
       "      <td>3251.277778</td>\n",
       "      <td>-58.381434</td>\n",
       "      <td>-34.627619</td>\n",
       "    </tr>\n",
       "    <tr>\n",
       "      <th>2642</th>\n",
       "      <td>LINEA_C</td>\n",
       "      <td>CONSTITUCION</td>\n",
       "      <td>08:45:00</td>\n",
       "      <td>3077.664032</td>\n",
       "      <td>-58.381434</td>\n",
       "      <td>-34.627619</td>\n",
       "    </tr>\n",
       "    <tr>\n",
       "      <th>2641</th>\n",
       "      <td>LINEA_C</td>\n",
       "      <td>CONSTITUCION</td>\n",
       "      <td>08:30:00</td>\n",
       "      <td>3041.292490</td>\n",
       "      <td>-58.381434</td>\n",
       "      <td>-34.627619</td>\n",
       "    </tr>\n",
       "    <tr>\n",
       "      <th>2637</th>\n",
       "      <td>LINEA_C</td>\n",
       "      <td>CONSTITUCION</td>\n",
       "      <td>07:30:00</td>\n",
       "      <td>2771.372385</td>\n",
       "      <td>-58.381434</td>\n",
       "      <td>-34.627619</td>\n",
       "    </tr>\n",
       "    <tr>\n",
       "      <th>2644</th>\n",
       "      <td>LINEA_C</td>\n",
       "      <td>CONSTITUCION</td>\n",
       "      <td>09:15:00</td>\n",
       "      <td>2748.114173</td>\n",
       "      <td>-58.381434</td>\n",
       "      <td>-34.627619</td>\n",
       "    </tr>\n",
       "  </tbody>\n",
       "</table>\n",
       "</div>"
      ],
      "text/plain": [
       "        LINEA      ESTACION     DESDE        TOTAL          X          Y\n",
       "2640  LINEA_C  CONSTITUCION  08:15:00  3251.277778 -58.381434 -34.627619\n",
       "2642  LINEA_C  CONSTITUCION  08:45:00  3077.664032 -58.381434 -34.627619\n",
       "2641  LINEA_C  CONSTITUCION  08:30:00  3041.292490 -58.381434 -34.627619\n",
       "2637  LINEA_C  CONSTITUCION  07:30:00  2771.372385 -58.381434 -34.627619\n",
       "2644  LINEA_C  CONSTITUCION  09:15:00  2748.114173 -58.381434 -34.627619"
      ]
     },
     "execution_count": 21,
     "metadata": {},
     "output_type": "execute_result"
    }
   ],
   "source": [
    "carto.sort_values(by=['TOTAL'],ascending=False).head()"
   ]
  },
  {
   "cell_type": "code",
   "execution_count": 22,
   "metadata": {
    "collapsed": false
   },
   "outputs": [],
   "source": [
    "carto.to_csv('carto.csv',encoding='utf-8',index=False)"
   ]
  },
  {
   "cell_type": "code",
   "execution_count": 23,
   "metadata": {
    "collapsed": false
   },
   "outputs": [
    {
     "data": {
      "text/html": [
       "<div>\n",
       "<table border=\"1\" class=\"dataframe\">\n",
       "  <thead>\n",
       "    <tr style=\"text-align: right;\">\n",
       "      <th></th>\n",
       "      <th>LINEA</th>\n",
       "      <th>ESTACION</th>\n",
       "      <th>DESDE</th>\n",
       "      <th>TOTAL</th>\n",
       "      <th>X</th>\n",
       "      <th>Y</th>\n",
       "    </tr>\n",
       "  </thead>\n",
       "  <tbody>\n",
       "    <tr>\n",
       "      <th>0</th>\n",
       "      <td>LINEA_A</td>\n",
       "      <td>ACOYTE</td>\n",
       "      <td>2017-05-23 05:00:00</td>\n",
       "      <td>9.394309</td>\n",
       "      <td>-58.436429</td>\n",
       "      <td>-34.61828</td>\n",
       "    </tr>\n",
       "    <tr>\n",
       "      <th>1</th>\n",
       "      <td>LINEA_A</td>\n",
       "      <td>ACOYTE</td>\n",
       "      <td>2017-05-23 05:15:00</td>\n",
       "      <td>14.713115</td>\n",
       "      <td>-58.436429</td>\n",
       "      <td>-34.61828</td>\n",
       "    </tr>\n",
       "    <tr>\n",
       "      <th>2</th>\n",
       "      <td>LINEA_A</td>\n",
       "      <td>ACOYTE</td>\n",
       "      <td>2017-05-23 05:30:00</td>\n",
       "      <td>17.819672</td>\n",
       "      <td>-58.436429</td>\n",
       "      <td>-34.61828</td>\n",
       "    </tr>\n",
       "    <tr>\n",
       "      <th>3</th>\n",
       "      <td>LINEA_A</td>\n",
       "      <td>ACOYTE</td>\n",
       "      <td>2017-05-23 05:45:00</td>\n",
       "      <td>20.183673</td>\n",
       "      <td>-58.436429</td>\n",
       "      <td>-34.61828</td>\n",
       "    </tr>\n",
       "    <tr>\n",
       "      <th>4</th>\n",
       "      <td>LINEA_A</td>\n",
       "      <td>ACOYTE</td>\n",
       "      <td>2017-05-23 06:00:00</td>\n",
       "      <td>37.963115</td>\n",
       "      <td>-58.436429</td>\n",
       "      <td>-34.61828</td>\n",
       "    </tr>\n",
       "  </tbody>\n",
       "</table>\n",
       "</div>"
      ],
      "text/plain": [
       "     LINEA ESTACION               DESDE      TOTAL          X         Y\n",
       "0  LINEA_A   ACOYTE 2017-05-23 05:00:00   9.394309 -58.436429 -34.61828\n",
       "1  LINEA_A   ACOYTE 2017-05-23 05:15:00  14.713115 -58.436429 -34.61828\n",
       "2  LINEA_A   ACOYTE 2017-05-23 05:30:00  17.819672 -58.436429 -34.61828\n",
       "3  LINEA_A   ACOYTE 2017-05-23 05:45:00  20.183673 -58.436429 -34.61828\n",
       "4  LINEA_A   ACOYTE 2017-05-23 06:00:00  37.963115 -58.436429 -34.61828"
      ]
     },
     "execution_count": 23,
     "metadata": {},
     "output_type": "execute_result"
    }
   ],
   "source": [
    "#crear date para la hora\n",
    "carto2 = pd.read_csv('carto.csv',\n",
    "                  parse_dates = [2])\n",
    "carto2.head()"
   ]
  },
  {
   "cell_type": "code",
   "execution_count": 24,
   "metadata": {
    "collapsed": true
   },
   "outputs": [],
   "source": [
    "carto2.to_csv('carto2.csv',index=False,encoding='utf-8')"
   ]
  },
  {
   "cell_type": "code",
   "execution_count": null,
   "metadata": {
    "collapsed": true
   },
   "outputs": [],
   "source": []
  }
 ],
 "metadata": {
  "anaconda-cloud": {},
  "kernelspec": {
   "display_name": "Python 2",
   "language": "python",
   "name": "python2"
  },
  "language_info": {
   "codemirror_mode": {
    "name": "ipython",
    "version": 2
   },
   "file_extension": ".py",
   "mimetype": "text/x-python",
   "name": "python",
   "nbconvert_exporter": "python",
   "pygments_lexer": "ipython2",
   "version": "2.7.13"
  }
 },
 "nbformat": 4,
 "nbformat_minor": 1
}
