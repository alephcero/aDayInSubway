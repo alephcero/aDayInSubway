{
 "cells": [
  {
   "cell_type": "code",
   "execution_count": 1,
   "metadata": {
    "collapsed": true
   },
   "outputs": [],
   "source": [
    "import pandas as pd\n",
    "import numpy as np"
   ]
  },
  {
   "cell_type": "code",
   "execution_count": 2,
   "metadata": {
    "collapsed": false
   },
   "outputs": [
    {
     "data": {
      "text/html": [
       "<div>\n",
       "<table border=\"1\" class=\"dataframe\">\n",
       "  <thead>\n",
       "    <tr style=\"text-align: right;\">\n",
       "      <th></th>\n",
       "      <th>ESTACION</th>\n",
       "      <th>DESDE</th>\n",
       "      <th>TOTAL</th>\n",
       "    </tr>\n",
       "  </thead>\n",
       "  <tbody>\n",
       "    <tr>\n",
       "      <th>0</th>\n",
       "      <td>9 DE JULIO</td>\n",
       "      <td>05:00:00</td>\n",
       "      <td>1.637500</td>\n",
       "    </tr>\n",
       "    <tr>\n",
       "      <th>1</th>\n",
       "      <td>9 DE JULIO</td>\n",
       "      <td>05:15:00</td>\n",
       "      <td>1.813268</td>\n",
       "    </tr>\n",
       "    <tr>\n",
       "      <th>2</th>\n",
       "      <td>9 DE JULIO</td>\n",
       "      <td>05:30:00</td>\n",
       "      <td>2.500000</td>\n",
       "    </tr>\n",
       "    <tr>\n",
       "      <th>3</th>\n",
       "      <td>9 DE JULIO</td>\n",
       "      <td>05:45:00</td>\n",
       "      <td>2.670807</td>\n",
       "    </tr>\n",
       "    <tr>\n",
       "      <th>4</th>\n",
       "      <td>9 DE JULIO</td>\n",
       "      <td>06:00:00</td>\n",
       "      <td>4.107602</td>\n",
       "    </tr>\n",
       "  </tbody>\n",
       "</table>\n",
       "</div>"
      ],
      "text/plain": [
       "     ESTACION     DESDE     TOTAL\n",
       "0  9 DE JULIO  05:00:00  1.637500\n",
       "1  9 DE JULIO  05:15:00  1.813268\n",
       "2  9 DE JULIO  05:30:00  2.500000\n",
       "3  9 DE JULIO  05:45:00  2.670807\n",
       "4  9 DE JULIO  06:00:00  4.107602"
      ]
     },
     "execution_count": 2,
     "metadata": {},
     "output_type": "execute_result"
    }
   ],
   "source": [
    "trips = pd.read_csv('dataFinal.csv',encoding='utf-8')\n",
    "trips.head()"
   ]
  },
  {
   "cell_type": "code",
   "execution_count": 58,
   "metadata": {
    "collapsed": false
   },
   "outputs": [
    {
     "data": {
      "text/html": [
       "<div>\n",
       "<table border=\"1\" class=\"dataframe\">\n",
       "  <thead>\n",
       "    <tr style=\"text-align: right;\">\n",
       "      <th></th>\n",
       "      <th>X</th>\n",
       "      <th>Y</th>\n",
       "      <th>ESTACION</th>\n",
       "      <th>LINEA</th>\n",
       "    </tr>\n",
       "  </thead>\n",
       "  <tbody>\n",
       "    <tr>\n",
       "      <th>0</th>\n",
       "      <td>-58.398928</td>\n",
       "      <td>-34.635750</td>\n",
       "      <td>CASEROS</td>\n",
       "      <td>LINEA_H</td>\n",
       "    </tr>\n",
       "    <tr>\n",
       "      <th>1</th>\n",
       "      <td>-58.400970</td>\n",
       "      <td>-34.629376</td>\n",
       "      <td>INCLAN</td>\n",
       "      <td>LINEA_H</td>\n",
       "    </tr>\n",
       "    <tr>\n",
       "      <th>2</th>\n",
       "      <td>-58.402323</td>\n",
       "      <td>-34.623092</td>\n",
       "      <td>HUMBERTO 1°</td>\n",
       "      <td>LINEA_H</td>\n",
       "    </tr>\n",
       "    <tr>\n",
       "      <th>3</th>\n",
       "      <td>-58.404732</td>\n",
       "      <td>-34.615242</td>\n",
       "      <td>VENEZUELA</td>\n",
       "      <td>LINEA_H</td>\n",
       "    </tr>\n",
       "    <tr>\n",
       "      <th>4</th>\n",
       "      <td>-58.406036</td>\n",
       "      <td>-34.608935</td>\n",
       "      <td>ONCE - 30 DE DICIEMBRE</td>\n",
       "      <td>LINEA_H</td>\n",
       "    </tr>\n",
       "  </tbody>\n",
       "</table>\n",
       "</div>"
      ],
      "text/plain": [
       "           X          Y                ESTACION    LINEA\n",
       "0 -58.398928 -34.635750                 CASEROS  LINEA_H\n",
       "1 -58.400970 -34.629376                  INCLAN  LINEA_H\n",
       "2 -58.402323 -34.623092             HUMBERTO 1°  LINEA_H\n",
       "3 -58.404732 -34.615242               VENEZUELA  LINEA_H\n",
       "4 -58.406036 -34.608935  ONCE - 30 DE DICIEMBRE  LINEA_H"
      ]
     },
     "execution_count": 58,
     "metadata": {},
     "output_type": "execute_result"
    }
   ],
   "source": [
    "estaciones = pd.read_csv('estaciones-de-subte.csv',sep=';',encoding='utf-8',usecols=[0,1,3,4])\n",
    "estaciones.LINEA = estaciones.LINEA.map(lambda x: 'LINEA_'+x)\n",
    "estaciones.head()"
   ]
  },
  {
   "cell_type": "code",
   "execution_count": 59,
   "metadata": {
    "collapsed": false
   },
   "outputs": [],
   "source": [
    "estaciones.ESTACION.replace(to_replace=u'HUMBERTO 1°',value=u'HUMBERTO I',inplace=True)\n",
    "estaciones.ESTACION.replace(to_replace=u'ONCE - 30 DE DICIEMBRE',value=u'ONCE',inplace=True)\n",
    "estaciones.ESTACION.replace(to_replace=u'TRIBUNALES - TEATRO COLON',value=u'TRIBUNALES',inplace=True)\n",
    "estaciones.ESTACION.replace(to_replace=u'R.SCALABRINI ORTIZ',value=u'SCALABRINI ORTIZ',inplace=True)\n",
    "estaciones.ESTACION.replace(to_replace=u'AV. DE MAYO',value=u'AVENIDA DE MAYO',inplace=True)\n",
    "estaciones.ESTACION.replace(to_replace=u'MORENO',value=u'MARIANO MORENO',inplace=True)\n",
    "\n",
    "estaciones.ESTACION.replace(to_replace=u'C. PELLEGRINI',value=u'CARLOS PELLEGRINI',inplace=True)\n",
    "estaciones.ESTACION.replace(to_replace=u'PASTEUR - AMIA',value=u'PASTEUR',inplace=True)\n",
    "estaciones.ESTACION.replace(to_replace=u'MALABIA - OSVALDO PUGLIESE',value=u'MALABIA',inplace=True)\n",
    "estaciones.ESTACION.replace(to_replace=u'PLAZA DE MISERERE',value=u'PLAZA MISERERE',inplace=True)\n",
    "estaciones.ESTACION.replace(to_replace=u'BELGRANO',value=u'GENERAL BELGRANO',inplace=True)\n",
    "estaciones.ESTACION.replace(to_replace=u'ENTRE RIOS - RODOLFO WALSH',value=u'ENTRE RIOS',inplace=True)\n",
    "estaciones.ESTACION.replace(to_replace=u'SAN MARTIN',value=u'GENERAL SAN MARTIN',inplace=True)\n",
    "estaciones.ESTACION.replace(to_replace=u'AV. LA PLATA',value=u'AVENIDA LA PLATA',inplace=True)\n",
    "estaciones.ESTACION.replace(to_replace=u'PLAZA DE LOS VIRREYES - EVA PERON',value=u'PZA. DE LOS VIRREYES',inplace=True)\n",
    "estaciones.ESTACION.replace(to_replace=u'TRONADOR - VILLA ORTUZAR',value=u'TRONADOR',inplace=True)\n",
    "estaciones.ESTACION.replace(to_replace=u'DE LOS INCAS -PQUE. CHAS',value=u'LOS INCAS',inplace=True)\n",
    "estaciones.ESTACION.replace(to_replace=u'PARQUE PATRICIOS',value=u'PATRICIOS',inplace=True)\n",
    "estaciones.ESTACION.replace(to_replace=u'JUAN MANUEL DE ROSAS - VILLA URQUIZA',value=u'ROSAS',inplace=True)\n",
    "estaciones.ESTACION.replace(to_replace=u'SAN JOSE DE FLORES',value=u'FLORES',inplace=True)\n",
    "estaciones.ESTACION.replace(to_replace=u'SANTA FE - CARLOS JAUREGUI',value=u'SANTA FE',inplace=True)\n",
    "\n",
    "\n"
   ]
  },
  {
   "cell_type": "code",
   "execution_count": 60,
   "metadata": {
    "collapsed": false
   },
   "outputs": [
    {
     "data": {
      "text/plain": [
       "Series([], Name: ESTACION, dtype: object)"
      ]
     },
     "execution_count": 60,
     "metadata": {},
     "output_type": "execute_result"
    }
   ],
   "source": [
    "#estaciones que no estan en trips\n",
    "noEstan = ~(estaciones.ESTACION.isin(trips.ESTACION.unique()))\n",
    "estaciones.ESTACION[noEstan]"
   ]
  },
  {
   "cell_type": "code",
   "execution_count": 61,
   "metadata": {
    "collapsed": false
   },
   "outputs": [
    {
     "data": {
      "text/plain": [
       "77    TALLER BONIFACIO\n",
       "dtype: object"
      ]
     },
     "execution_count": 61,
     "metadata": {},
     "output_type": "execute_result"
    }
   ],
   "source": [
    "noEstan = ~(pd.Series(trips.ESTACION.unique()).isin(estaciones.ESTACION))\n",
    "pd.Series(trips.ESTACION.unique())[noEstan]"
   ]
  },
  {
   "cell_type": "code",
   "execution_count": 62,
   "metadata": {
    "collapsed": true
   },
   "outputs": [],
   "source": [
    "trips.ESTACION.replace(to_replace=u'CALLAO.B',value=u'CALLAO',inplace=True)\n",
    "trips.ESTACION.replace(to_replace=u'INDEPENDENCIA.H',value=u'INDEPENDENCIA',inplace=True)\n",
    "trips.ESTACION.replace(to_replace=u'PUEYRREDON.D',value=u'PUEYRREDON',inplace=True)\n"
   ]
  },
  {
   "cell_type": "code",
   "execution_count": 63,
   "metadata": {
    "collapsed": false
   },
   "outputs": [
    {
     "data": {
      "text/plain": [
       "77    TALLER BONIFACIO\n",
       "dtype: object"
      ]
     },
     "execution_count": 63,
     "metadata": {},
     "output_type": "execute_result"
    }
   ],
   "source": [
    "noEstan = ~(pd.Series(trips.ESTACION.unique()).isin(estaciones.ESTACION))\n",
    "pd.Series(trips.ESTACION.unique())[noEstan]"
   ]
  },
  {
   "cell_type": "code",
   "execution_count": 65,
   "metadata": {
    "collapsed": false
   },
   "outputs": [
    {
     "data": {
      "text/html": [
       "<div>\n",
       "<table border=\"1\" class=\"dataframe\">\n",
       "  <thead>\n",
       "    <tr style=\"text-align: right;\">\n",
       "      <th></th>\n",
       "      <th>ESTACION</th>\n",
       "      <th>DESDE</th>\n",
       "      <th>TOTAL</th>\n",
       "      <th>X</th>\n",
       "      <th>Y</th>\n",
       "      <th>LINEA</th>\n",
       "    </tr>\n",
       "  </thead>\n",
       "  <tbody>\n",
       "    <tr>\n",
       "      <th>0</th>\n",
       "      <td>9 DE JULIO</td>\n",
       "      <td>05:00:00</td>\n",
       "      <td>1.637500</td>\n",
       "      <td>-58.380574</td>\n",
       "      <td>-34.604245</td>\n",
       "      <td>LINEA_D</td>\n",
       "    </tr>\n",
       "    <tr>\n",
       "      <th>1</th>\n",
       "      <td>9 DE JULIO</td>\n",
       "      <td>05:15:00</td>\n",
       "      <td>1.813268</td>\n",
       "      <td>-58.380574</td>\n",
       "      <td>-34.604245</td>\n",
       "      <td>LINEA_D</td>\n",
       "    </tr>\n",
       "    <tr>\n",
       "      <th>2</th>\n",
       "      <td>9 DE JULIO</td>\n",
       "      <td>05:30:00</td>\n",
       "      <td>2.500000</td>\n",
       "      <td>-58.380574</td>\n",
       "      <td>-34.604245</td>\n",
       "      <td>LINEA_D</td>\n",
       "    </tr>\n",
       "    <tr>\n",
       "      <th>3</th>\n",
       "      <td>9 DE JULIO</td>\n",
       "      <td>05:45:00</td>\n",
       "      <td>2.670807</td>\n",
       "      <td>-58.380574</td>\n",
       "      <td>-34.604245</td>\n",
       "      <td>LINEA_D</td>\n",
       "    </tr>\n",
       "    <tr>\n",
       "      <th>4</th>\n",
       "      <td>9 DE JULIO</td>\n",
       "      <td>06:00:00</td>\n",
       "      <td>4.107602</td>\n",
       "      <td>-58.380574</td>\n",
       "      <td>-34.604245</td>\n",
       "      <td>LINEA_D</td>\n",
       "    </tr>\n",
       "  </tbody>\n",
       "</table>\n",
       "</div>"
      ],
      "text/plain": [
       "     ESTACION     DESDE     TOTAL          X          Y    LINEA\n",
       "0  9 DE JULIO  05:00:00  1.637500 -58.380574 -34.604245  LINEA_D\n",
       "1  9 DE JULIO  05:15:00  1.813268 -58.380574 -34.604245  LINEA_D\n",
       "2  9 DE JULIO  05:30:00  2.500000 -58.380574 -34.604245  LINEA_D\n",
       "3  9 DE JULIO  05:45:00  2.670807 -58.380574 -34.604245  LINEA_D\n",
       "4  9 DE JULIO  06:00:00  4.107602 -58.380574 -34.604245  LINEA_D"
      ]
     },
     "execution_count": 65,
     "metadata": {},
     "output_type": "execute_result"
    }
   ],
   "source": [
    "trips.merge(estaciones).head()"
   ]
  },
  {
   "cell_type": "code",
   "execution_count": null,
   "metadata": {
    "collapsed": true
   },
   "outputs": [],
   "source": []
  }
 ],
 "metadata": {
  "kernelspec": {
   "display_name": "Python 2",
   "language": "python",
   "name": "python2"
  },
  "language_info": {
   "codemirror_mode": {
    "name": "ipython",
    "version": 2
   },
   "file_extension": ".py",
   "mimetype": "text/x-python",
   "name": "python",
   "nbconvert_exporter": "python",
   "pygments_lexer": "ipython2",
   "version": "2.7.13"
  }
 },
 "nbformat": 4,
 "nbformat_minor": 2
}
